{
 "cells": [
  {
   "cell_type": "markdown",
   "metadata": {},
   "source": [
    "# Numerisk løsning av enkel harmonisk pendel"
   ]
  },
  {
   "cell_type": "markdown",
   "metadata": {},
   "source": [
    "### TFY4163 Fluidmekanikk og bølgefysikk – Programmeringsøving 1"
   ]
  },
  {
   "cell_type": "markdown",
   "metadata": {},
   "source": [
    "**Forkunnskaper:** Programmeringskunnskaper tilsvarende det opparbeidet i ITGK og FY1001, spesielt bruk av Euler metoden for å løse differensialligninger. "
   ]
  },
  {
   "cell_type": "markdown",
   "metadata": {},
   "source": [
    "**Læringsmål:** Løsning av andreordens ODE med Euler-metoden, numerisk stabilitet for Euler metoden og plotting av data. "
   ]
  },
  {
   "cell_type": "markdown",
   "metadata": {},
   "source": [
    "---"
   ]
  },
  {
   "attachments": {
    "pendulum.png": {
     "image/png": "[encoded data removed]"
    }
   },
   "cell_type": "markdown",
   "metadata": {},
   "source": [
    "I denne øvingen skal vi se på enkel harmonisk pendelbevegelse til en punktmasse. I denne modellen henger en punktmasse fra en masseløs, utøyelig snor. Vi skal først se på den analytiske løsningen av ligningen, og plotte vinkelutslaget. Deretter går vi over til numerisk løsning ved Euler-metoden, som dere ble kjent med i FY1001 Mekanisk fysikk.  \n",
    "\n",
    "![pendulum.png](attachment:pendulum.png)\n",
    "<span align=\"center\"><strong>Figur 1:</strong> <em>Enkel pendel med masse $m$ og utslagsvinkel $\\theta$.</em></span>\n",
    "\n",
    "\n",
    "I figur 1 er kreftene som virker på massen som henger fra snora vist. Her er $\\vec{S}$ snorkrafta og $m\\vec{g}$ gravitasjonskraften. Vi antar her at kun disse to kreftene virker på massen."
   ]
  },
  {
   "cell_type": "markdown",
   "metadata": {},
   "source": [
    "## Oppgave 1 – Analytisk løsning av bevegelsesligningen for pendelen"
   ]
  },
  {
   "cell_type": "markdown",
   "metadata": {},
   "source": [
    "**a)** Vis at bevegelsesligningen for pendelen er gitt ved\n",
    "$$\\frac{d^2 \\theta}{d t^2} = - \\frac{g}{l} \\sin \\theta,$$\n",
    "hvor $\\theta$ er vinkelutslaget til snora med hensyn til vertikalen, $g$ er tyngdeakselerasjonen og $l$ er lengden av snora.\n"
   ]
  },
  {
   "cell_type": "markdown",
   "metadata": {},
   "source": [
    "---\n",
    "\n",
    "SKRIV HER (eller på papir)\n",
    "\n",
    "---"
   ]
  },
  {
   "attachments": {},
   "cell_type": "markdown",
   "metadata": {},
   "source": [
    "Anta at vinkelutslaget er lite, slik at vi kan anta $\\sin \\theta \\approx \\theta$. Bevegelsesligningen er da gitt ved\n",
    "$$\n",
    " \t\\frac{d^2 \\theta}{d t^2} = - \\frac{g}{l} \\theta.\n",
    "$$\n",
    "Den analytiske løsningen av bevegelsesligningen over er\n",
    "$$\n",
    " \t\\theta(t) = \\theta_0 \\cos(\\omega t + \\phi),\n",
    "$$\n",
    "der $\\omega = \\sqrt{g/l}$ er vinkelfrekvensen og $\\phi$ er fasen."
   ]
  },
  {
   "cell_type": "markdown",
   "metadata": {},
   "source": [
    "**b)** Plot den analytiske løsningen for vinkelutslaget, $\\theta(t)$, som funksjon av tid, $t$, fram til $t=10$ s. "
   ]
  },
  {
   "cell_type": "markdown",
   "metadata": {},
   "source": [
    "Bruk følgende parametere og initialbetingelser:\n",
    "- Lengden av snora, $l = 1.0$ m\n",
    "- Massen til pendelen, $m = 5$ kg\n",
    "- Tyngdeakselerasjonen, $g = 9.8$ $\\text{m}/\\text{s}^2$\n",
    "- Startvinkelen til pendelarmen med hensyn til vertikalen, $\\theta_0 = 0.2$ rad\n",
    "- Vinkelhastighetens startverdi, $\\omega_0 = 0.0$ rad/s\n"
   ]
  },
  {
   "cell_type": "code",
   "execution_count": null,
   "metadata": {},
   "outputs": [],
   "source": [
    "# Remember to import nescessary libraries!\n",
    "\n",
    "# To show figures in the notebook\n",
    "%matplotlib inline\n",
    "\n",
    "# Define parameters and initial conditions\n",
    "m = 5            # [kg], mass \n",
    "l = 1.0          # [m], length of string\n",
    "g = 9.8          # [m/s^2], gravitational acceleration\n",
    "theta_0 = 0.2    # [rad], intial angular displacement, with respect to the vertical \n",
    "w_0 = 0.0        # [rad/s], initial angular velocity\n",
    "T = 10.0         # [s], evaluate up to T\n",
    "\n",
    "# SKRIV KODE HER"
   ]
  },
  {
   "cell_type": "markdown",
   "metadata": {},
   "source": [
    "## Oppgave 2 – Numerisk løsning av bevegelsesligningen for pendelen"
   ]
  },
  {
   "cell_type": "markdown",
   "metadata": {},
   "source": [
    "$\\textbf{a)}$ Skriv bevegelsesligningen med tilnærmelsen $\\sin \\theta = \\theta$ for pendelen som to første ordens differensialligninger. Diskretiser ligningen."
   ]
  },
  {
   "cell_type": "markdown",
   "metadata": {},
   "source": [
    "---\n",
    "\n",
    "SKRIV HER (eller på papir)\n",
    "\n",
    "---"
   ]
  },
  {
   "cell_type": "markdown",
   "metadata": {},
   "source": [
    "**b)** Skriv en funksjon som returnerer beregnet utslagsvinkel, $\\theta$, og vinkelfrekvens, $\\omega$, opp til $t = T$ ved bruk av **Euler metoden**. Funksjonen skal ta inn tidssteget $\\Delta t$, sluttiden $T$, samt initialverdiene for vinkelen og vinkelfrekvensen. Kommenter koden.\n",
    "\n",
    "Om du trenger å repetere Euler metoden kan du gå gjennom Notebooken [Euler's method](https://nbviewer.jupyter.org/urls/www.numfys.net/media/notebooks/eulers_method.ipynb). \n",
    "\n",
    "I kolonnen under er det gitt en del kommentarer på hva du må huske å ha med i koden, og forslag til en funksjonsdeklarasjon. Om du ønsker kan du benytte dette for å få hjelp til å starte. \n",
    "\n",
    "*Hint:* Benytt `np.zeros`, til å lage en array av lengde `n+1` fylt med tallet 0, for $\\theta$ og $\\omega$. Benytt `np.linspace` for å lage et array for tiden med jevnt fordelte verdier fra en startverdi til en sluttverdi."
   ]
  },
  {
   "cell_type": "code",
   "execution_count": null,
   "metadata": {},
   "outputs": [],
   "source": [
    "# As you already imported numpy and matplotlib above, you do not have to import again.\n",
    "# (as long as you ran the cell)\n",
    "\n",
    "def euler_method(theta_0, w_0, dt, T):\n",
    "    \"\"\"\n",
    "    Calculates angular displacement and angular velocity using the Euler method.\n",
    "\n",
    "    theta_0: initial angular displacement\n",
    "    w_0: initial angular velocity (omega) \n",
    "    dt: timestep\n",
    "    T: max T\n",
    "    \"\"\"\n",
    "    # SKRIV KODE HER\n",
    "    \n",
    "    \"\"\"\n",
    "    theta: array with values of angular displacement\n",
    "    w: array with values of angular velocity\n",
    "    t: array with time-values\n",
    "    \"\"\"\n",
    "    return theta, w, t"
   ]
  },
  {
   "cell_type": "markdown",
   "metadata": {},
   "source": [
    "**c)** Plot utslagsvinkelen, $\\theta$, som funksjon av tid, $t$, sammen med den analytiske løsningen av bevegelsesligningen (opp til $t=10$ s). Bruk tidsstegene $\\Delta t = 0.001$ s og $\\Delta t = 0.004$ s og $\\Delta t = 0.007$ s.\n",
    "\n",
    "Vær nøye med navn på akser, legg til legend, og ha med tittel. Du kan øke grensene for y-aksen med `plt.ylim(min, max)`, om du ønsker det. "
   ]
  },
  {
   "cell_type": "code",
   "execution_count": null,
   "metadata": {},
   "outputs": [],
   "source": [
    "# SKRIV KODE HER"
   ]
  },
  {
   "cell_type": "markdown",
   "metadata": {},
   "source": [
    "**d)** Observer fra plottet over at amplituden til utslagsvinkel for den numeriske løsningen vil øke med tid (om du ikke ser dette tydelig, så øk tidssteget litt). Vi skal nå se på energien til pendelen og forstå hvorfor dette skjer. \n",
    "1. Vis at energien til pendelen er gitt ved $E = E_k + E_p = \\frac{1}{2} m l^2 \\omega^2 + \\frac{1}{2} mgl\\theta^2$ for små vinkelutslag.\n",
    "*Hint:* Skriv ned det generelle utrykket for energi, og utrykk hastigheten i vinkelhastigheten. Definer nullpunktet for den postensielle energien der $\\theta = 0$.\n",
    "\n",
    "\n",
    "2. Skriv en funksjon som returnerer en array med den totale energien til pendelen for tider opp til $t=10.0$ s.\n",
    "*Hint:* Husk numpy arrays er kompatible med vanlige operatorer.\n",
    "\n",
    "\n",
    "3. Plot den totale energien til pendelen som funksjon av tid, for tidssteg $\\Delta t = 0.001$, $\\Delta t = 0.004$ og $\\Delta t = 0.007$. Husk å gi plottene passende label, og inkluder legend. Du vil observere at den totale energien øker med tid. Energien vil øke mindre for små tidssteg, men vil alltid øke litt. Vi må derfor benytte en annen metode for å få en fysisk løsning (dette skal vi implementere i neste øving)"
   ]
  },
  {
   "cell_type": "markdown",
   "metadata": {},
   "source": [
    "---\n",
    "\n",
    "1.\n",
    "\n",
    "SKRIV HER (eller på papir)\n",
    "\n",
    "---"
   ]
  },
  {
   "cell_type": "code",
   "execution_count": null,
   "metadata": {},
   "outputs": [],
   "source": [
    "# 2.\n",
    "\n",
    "def energy_calculation(theta_0, w_0, dt, T):\n",
    "    \"\"\"\n",
    "    Calculates total energy for each time which theta and omega is calculated for.\n",
    "    \n",
    "    theta0: initial angular displacement\n",
    "    w0: initial angular velocity \n",
    "    dt: timestep\n",
    "    T: max T\n",
    "    \"\"\"\n",
    "    \n",
    "    # SKRIV KODE HER\n",
    "        \n",
    "    \"\"\"\n",
    "    E_total: array with the total energy found from values of theta and w (omega)\n",
    "    t: array with timevalues \n",
    "    \"\"\"\n",
    "    \n",
    "    \n",
    "    return E_total, t \n",
    "\n",
    "# 3.\n",
    "\n",
    "# SKRIV KODE FOR Å PLOTTE ENERGIEN HER"
   ]
  }
 ],
 "metadata": {
  "@webio": {
   "lastCommId": null,
   "lastKernelId": null
  },
  "kernelspec": {
   "display_name": "Python 3",
   "language": "python",
   "name": "python3"
  },
  "language_info": {
   "codemirror_mode": {
    "name": "ipython",
    "version": 3
   },
   "file_extension": ".py",
   "mimetype": "text/x-python",
   "name": "python",
   "nbconvert_exporter": "python",
   "pygments_lexer": "ipython3",
   "version": "3.7.7"
  }
 },
 "nbformat": 4,
 "nbformat_minor": 2
}
