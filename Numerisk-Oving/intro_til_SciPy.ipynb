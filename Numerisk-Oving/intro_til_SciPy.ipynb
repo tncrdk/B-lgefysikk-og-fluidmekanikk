{
 "cells": [
  {
   "cell_type": "markdown",
   "metadata": {},
   "source": [
    "# Introduksjon til SciPy biblioteket "
   ]
  },
  {
   "cell_type": "markdown",
   "metadata": {},
   "source": [
    "**Læringsmål** Lære å sette seg inn i bibliotek og dokumentasjon. Grunnleggende introduksjon til SciPy og spesielt scipy.integrate.solve_ivp funksjonen. "
   ]
  },
  {
   "cell_type": "markdown",
   "metadata": {},
   "source": [
    "SciPy er et bibliotek for Python, som benyttes til vitenskapelige beregninger. Biblioteket er laget for å fungere med NumPy arrays. SciPy inneholder pakker for blant annet numerisk integrasjon, optimalisering og interpolasjon. Dokumentasjon finnes på https://docs.scipy.org/doc/scipy/reference/. I Anaconda er SciPy biblioteket inkludert, slik at du ikke trenger å laste ned noe ekstra for å benytte det.\n",
    "\n",
    "`scipy.integrate` pakken inneholder funksjoner for numerisk integrasjon, samt funksjoner for løsning av ordinære differensialligninger. Et eksempel på en funksjon som finnes i denne pakken er `scipy.integrate.quad(func, a, b)`, som numerisk beregner et bestemt integral. Funksjonen tar inn en funksjon (func) som første element, og startverdi(a) som andre og sluttverdi(b) som tredje element. Funksjonen returnerer en tupel med to verdier. Første verdi er verdien av det beregnede integralet, og andre verdi er et estimat av den absolute feilen i det beregnede integralet. \n",
    "\n",
    "Vi bruker integrate pakken og quad funksjonen som eksempler under."
   ]
  },
  {
   "cell_type": "markdown",
   "metadata": {},
   "source": [
    "For å importere en pakke fra SciPy biblioteket skriver du (øverst i dokumentet)"
   ]
  },
  {
   "cell_type": "code",
   "execution_count": 1,
   "metadata": {},
   "outputs": [],
   "source": [
    "from scipy import integrate"
   ]
  },
  {
   "cell_type": "markdown",
   "metadata": {},
   "source": [
    "Et enkelt eksempel på bruk av `integrate.quad` funksjonen ser du i cellen under:"
   ]
  },
  {
   "cell_type": "code",
   "execution_count": 2,
   "metadata": {},
   "outputs": [
    {
     "name": "stdout",
     "output_type": "stream",
     "text": [
      "Beregnet verdi av integralet til x^2 fra 1 til 2: 2.3333333333333335\n"
     ]
    }
   ],
   "source": [
    "def f(x):\n",
    "    \"\"\"\n",
    "    Returnerer verdien av x^2\n",
    "    \"\"\"\n",
    "    return x**2\n",
    "\n",
    "a = 1 # Start\n",
    "b = 2 # Slutt\n",
    "\n",
    "val = integrate.quad(f,a,b) # Kaller på funksjonen og lagrer tupelen som returneres i en variabel\n",
    "\n",
    "integral_value = val[0]     # Lagrer verdien av det beregnede integralet i en variabel\n",
    "print(\"Beregnet verdi av integralet til x^2 fra 1 til 2:\", integral_value)"
   ]
  },
  {
   "cell_type": "markdown",
   "metadata": {},
   "source": [
    "Merk at vi kaller funksjonen med `integrate.quad`, fordi vi importerte `integrate` pakken fra scipy. Dersom du har importert et annen bibliotek, f.eks. `optimize`, ville du skrevet `from scipy import optimize`, og kalt funksjonen med `optimize.function`(hvor `function` er en funksjon du ønsker å bruke fra `optimize` biblioteket)."
   ]
  },
  {
   "cell_type": "markdown",
   "metadata": {},
   "source": [
    "### Dokumentasjon\n",
    "--------------------"
   ]
  },
  {
   "attachments": {},
   "cell_type": "markdown",
   "metadata": {},
   "source": [
    "I dokumentasjonen til SciPy, som du finner på https://docs.scipy.org/doc/scipy/reference/, står det hva som er parametre i en funksjon, og hva den returnerer. Det er også vanligvis eksempler på bruk av funksjonen, som gjerne er lurt å forstå før en selv skal prøve å bruke den. Ofte står det mange parametre, men mange har *default* verdier. Dvs. at vi kan la være å endre på disse verdiene (man sier at de er \"optional\"). Det kan være nødvendig å endre på verdiene, og det er da nyttig å lese dokumentasjon på nettsidene til SciPy. \n",
    "\n",
    "Vi bruker `scipy.integrate.trapz` funksjonens dokumentasjon for å forklare hvordan man leser denne. Under finner du et utklipp av nettsiden, https://docs.scipy.org/doc/scipy/reference/generated/scipy.integrate.trapz.html. (Merk: funksjonen kan oppdateres etter utklippet ble hentet, så dersom du skal bruke denne selv bør du gå inn på dokumentasjonen for å være sikker på at du har nyeste version) \n",
    "\n",
    "<img src=\"./trapz_doc.png\" width=\"700\">\n",
    "<span align=\"center\"><strong>Figur 1:</strong> <em>Utklipp av nettsiden med dokumentasjon til scipy.integrate.trapz funksjonen.</em></span>\n",
    "         \n",
    "Øverst på siden står *funksjonsdeklarasjonen*, `scipy.integrate.trapz(y, x=None, dx=1.0, axis=-1)`. Vi ser at siden x=None, dx=1.0, og axis=-1, er disse default verdier, så vi slipper å gi de som input når vi kaller funksjonen.\n",
    "\n",
    "Under dette står en kort forklaring på hva funksjonen gjør, og hvilken numerisk metode den benytter.\n",
    "\n",
    "Så står *parametrene*, en liste med hva variabeltypen funksjonen forventer å ta inn er, og forklaring av disse.\n",
    "\n",
    "Til slutt står *returverdiene*, med variabeltype og forklaring av den.\n"
   ]
  },
  {
   "cell_type": "markdown",
   "metadata": {},
   "source": [
    "### Løsning av ordinære differensialligninger med `scipy.integrate.solve_ivp` funksjonen\n",
    "---------------"
   ]
  },
  {
   "attachments": {},
   "cell_type": "markdown",
   "metadata": {},
   "source": [
    "Vi skal nå se på `scipy.integrate.solve_ivp` funksjonen, som brukes for å løse ordinære differensialligninger. Dokumentasjonen finnes på https://docs.scipy.org/doc/scipy/reference/generated/scipy.integrate.solve_ivp.html.\n",
    "Som forklart her $\\textit{krever}$ funksjonen at det tas inn (minst) tre variable. Vi skal i tillegg til de variablene som kreves, ta inn en parameter `method` og `t_eval`, slik at funksjonskallet blir: \n",
    "\n",
    "`scipy.integrate.solve_ivp(fun, t_span, y0, method='RK45', t_eval=None)`\n",
    "\n",
    "De variablene vi tar inn er forklart under:\n",
    "\n",
    "$\\textbf{fun:}$ callable. fun er en funksjon som returnerer et objekt av typen array_like (array_like er en variabeltype som kan konverteres til en numpy array, feks. ett tall eller en vanlig liste), som er høyre side av differensialligningen. Må være på formen fun(t,y) hvor t er en float (flyttall). y kan være en array, dersom vi har et ligningssystem, eller en float (flyttall) dersom vi kun har én ligning. \n",
    "\n",
    "2-tuple of float. Yuppel med to floats som elementer (kan også bruke liste her). t_span er integrasjonsintervallet (t0, t1) (tiden det integreres over). \n",
    "\n",
    "\n",
    "array_like, shape(n,). y0 er en array med starttilstander, med lengde lik antall ligninger i ligningssystemet \n",
    "\n",
    "string or OdeSolver, optional. Tar inn integrasjonsmetoden som benyttes. På nettsiden til dokumentasjonen finner du ulike metoder som kan brukes. Vi skal i eksemplet under benytte `RK45` metoden (som også er default verdien)\n",
    "\n",
    "array_like or None, optional. Tidspunkt der den beregnede løsningen blir lagret. Må ligge i intervallet til t_span. Dersom man bruker None, velger den numeriske metoden tidene. \n",
    "\n",
    "Variablene som blir returnert er lagret i ett \"bunch object\". Dette er en type variabel som inneholder flere andre variabler, som kan aksesseres (hente ut verdien til) ved å skrive `objekt.variabel`, hvor `objekt` er navnet vi gir til bunch objektet som blir returnert, mens `variabel` er variabelen vi ønsker å aksessere.\n",
    "\n",
    "Som du kan se i dokumentasjonen er det flere variabler som er lagret i objektet som returneres. De to viktigste for oss er `t` og `y`:\n",
    "\n",
    "**t:** ndarray, shape(n_points,). En array med tidspunkter hvor vi har løsning for ligningen.\n",
    "\n",
    "**y:** ndarray, shape(n, n_points). En array med verdiene av løsningen. Dette er en todimensional array, og for å hente ut verdiene av y, skriver vi `y[0, :]`. "
   ]
  },
  {
   "cell_type": "markdown",
   "metadata": {},
   "source": [
    "Under finner du et eksempel på bruk av scipy.integrate.solve_ivp for en førsteordens ODE gitt ved $\\frac{dy}{dt} = -0.5 e^y$, med $y_0$ = 4 (initialverdi)."
   ]
  },
  {
   "cell_type": "code",
   "execution_count": null,
   "metadata": {},
   "outputs": [],
   "source": [
    "from scipy import integrate     # Importerer integrate pakken\n",
    "import numpy as np              # Importerer numpy, som np\n",
    "import matplotlib.pyplot as plt # For å plotte med matplotlib\n",
    "import matplotlib as mpl\n",
    "%matplotlib inline \n",
    "mpl.rcParams['figure.dpi'] = 200 # Setter dpi til figuren til 200 (bedre kvalitet)\n",
    "\n",
    "\n",
    "def equation(t, y):\n",
    "    \"\"\"\n",
    "    returnerer høyre side av differensialligningen\n",
    "     \n",
    "    t: float, tid\n",
    "    y: array, y-verdier\n",
    "    \"\"\"\n",
    "    dy = -0.5*np.exp(y)\n",
    "    return dy\n",
    "\n",
    "# Initialverdi\n",
    "y_0 = 4    # Initialverdi for y\n",
    "\n",
    "# Parametre\n",
    "t_0 = 0      # [s], starttid\n",
    "t_1 = 10     # [s], sluttid\n",
    "dt = 0.001   # [s], tidssteg\n",
    "\n",
    "def RK45_method(RHS, y_0, t_1, dt):\n",
    "    # Regner ut y-verdier\n",
    "    # RHS: Høyre side av differensialligningen\n",
    "    # y_0: initialverdi for y\n",
    "    # t_1: sluttid\n",
    "    # dt: tidssteg\n",
    "    init_values = [y_0]  # Funksjonen tar inn en list eller numpy array som variabel\n",
    "                                   # må derfor ha som array selv om det kun er en verdi her.\n",
    "    t_span = [0, t_1+dt]           # Liste med start og sluttverdi\n",
    "    t = np.arange(0, t_1 + dt, dt) # Array med verdier fra 0 til t_1, med dt som steglengde mellom verdier\n",
    "    solution = integrate.solve_ivp(RHS, t_span, init_values, method = 'RK45', t_eval = t) \n",
    "    # Setter at method = 'RK45', men dette er standard så må ikke ha med\n",
    "    x = solution.y[0, :] # Array med y-verdier\n",
    "    t = solution.t       # Array med t-verdier\n",
    "    return x, t\n",
    "\n",
    "y, t = RK45_method(equation, y_0, t_1, dt)\n",
    "\n",
    "plt.plot(t, y)                   # Plotter y-verdiene som funksjon av tid. \n",
    "plt.xlabel('$t $', fontsize = 15) # Setter navn på x-aksen, og setter skriftstørrelsen på aksen til 15\n",
    "plt.ylabel('$y$', fontsize = 15) # Setter navn på y-aksen, og setter skriftstørrelsen på aksen til 15\n",
    "plt.show()                       # Viser plotte "
   ]
  },
  {
   "cell_type": "code",
   "execution_count": null,
   "metadata": {},
   "outputs": [],
   "source": []
  },
  {
   "cell_type": "markdown",
   "metadata": {},
   "source": [
    "**Kilder:** https://docs.scipy.org/doc/scipy/reference/generated/scipy.integrate.trapz.html, lastet ned 06.08.19."
   ]
  }
 ],
 "metadata": {
  "@webio": {
   "lastCommId": null,
   "lastKernelId": null
  },
  "kernelspec": {
   "display_name": "scientific-venv",
   "language": "python",
   "name": "python3"
  },
  "language_info": {
   "codemirror_mode": {
    "name": "ipython",
    "version": 3
   },
   "file_extension": ".py",
   "mimetype": "text/x-python",
   "name": "python",
   "nbconvert_exporter": "python",
   "pygments_lexer": "ipython3",
   "version": "3.11.1"
  },
  "vscode": {
   "interpreter": {
    "hash": "e4f210080ac5f4a6cc2115fed17dd312d2fd73f6666689d56c969c540f3ec61a"
   }
  }
 },
 "nbformat": 4,
 "nbformat_minor": 2
}
