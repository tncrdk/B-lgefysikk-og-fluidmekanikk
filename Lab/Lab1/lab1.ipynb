{
 "cells": [
  {
   "cell_type": "code",
   "execution_count": 2,
   "metadata": {},
   "outputs": [],
   "source": [
    "from enum import Enum\n",
    "\n",
    "class springs(Enum):\n",
    "    f1 = 1\n",
    "    f2 = 2\n",
    "    f3 = 3\n",
    "\n",
    "L = 0.98\n",
    "g = 9.81\n",
    "    "
   ]
  },
  {
   "cell_type": "code",
   "execution_count": 3,
   "metadata": {},
   "outputs": [
    {
     "name": "stdout",
     "output_type": "stream",
     "text": [
      "[ 7.14669901  4.90862136  2.66910098  7.19808182  7.12495656 13.19500125\n",
      "  2.69980216]\n"
     ]
    }
   ],
   "source": [
    "import numpy as np\n",
    "\n",
    "# fjær 1, fjær 2, fjær 3, fjær 1, fjær 1 ekstra, parallell, serie, pendel_1, pendel_2\n",
    "m = np.array([50, 50, 50, 70, 50, 50, 50])*1e-3                # g\n",
    "w = np.array([11.9555, 9.9082, 7.3063, 10.1405, 11.9373, 16.245, 7.3482])   \n",
    "\n",
    "k = w**2*m\n",
    "\n",
    "print(k)"
   ]
  },
  {
   "cell_type": "code",
   "execution_count": 4,
   "metadata": {},
   "outputs": [
    {
     "name": "stdout",
     "output_type": "stream",
     "text": [
      "7.172390415000001\n"
     ]
    }
   ],
   "source": [
    "# Measured values of k\n",
    "k1_avg = (k[0]+k[3])/2\n",
    "k2 = k[1]\n",
    "k1_ekstra = k[4]\n",
    "k3 = k[2]\n",
    "\n",
    "print(k1_avg)"
   ]
  },
  {
   "cell_type": "code",
   "execution_count": 5,
   "metadata": {},
   "outputs": [
    {
     "name": "stdout",
     "output_type": "stream",
     "text": [
      "Analytic values of k\n",
      "k_eff_parallell = 14.30 N m^-1\n",
      "k_eff_serie     =  2.91 N m^-1\n",
      "\n",
      "Measured values\n",
      "k_eff_parallell_målt = 13.20 N m^-1\n",
      "k_eff_serie_målt =  2.70 N m^-1\n"
     ]
    }
   ],
   "source": [
    "# Analytic k\n",
    "k_eff_parallell = k1_avg + k1_ekstra\n",
    "k_eff_serie = (k1_avg*k2)/(k1_avg+k2)\n",
    "\n",
    "print(\"Analytic values of k\")\n",
    "print(f'{\"k_eff_parallell\":<15} = {k_eff_parallell:>5.2f} N m^-1')\n",
    "print(f'{\"k_eff_serie\":<15} = {k_eff_serie:>5.2f} N m^-1')\n",
    "\n",
    "print(\"\\nMeasured values\")\n",
    "print(f'{\"k_eff_parallell_målt\":<15} = {k[5]:>5.2f} N m^-1')\n",
    "print(f'{\"k_eff_serie_målt\":<15} = {k[6]:>5.2f} N m^-1')"
   ]
  },
  {
   "cell_type": "code",
   "execution_count": 6,
   "metadata": {},
   "outputs": [],
   "source": [
    "m_pendel = 1 # kg\n",
    "w1_analytic = np.sqrt(g/L)\n",
    "w2_analytic = np.sqrt(g / L + 2*k3 / m_pendel)\n",
    "wa = 0.5*(w2_analytic-w1_analytic)\n",
    "wb = 0.5*(w2_analytic+w1_analytic)\n",
    "w1_messured = 3.2021\n",
    "w2_messured = 3.621\n",
    "\n",
    "k_pendel_messured = (w2_messured**2 - g/L)*m_pendel/2"
   ]
  },
  {
   "cell_type": "code",
   "execution_count": 7,
   "metadata": {},
   "outputs": [
    {
     "name": "stdout",
     "output_type": "stream",
     "text": [
      "Analytic values of k\n",
      "k_pendel        =  2.67 N m^-1\n",
      "\n",
      "Measured values\n",
      "k_pendel_målt   =  1.55 N m^-1\n"
     ]
    }
   ],
   "source": [
    "# Analytic\n",
    "\n",
    "\n",
    "print(\"Analytic values of k\")\n",
    "print(f'{\"k_pendel\":<15} = {k3:>5.2f} N m^-1')\n",
    "\n",
    "print(\"\\nMeasured values\")\n",
    "print(f'{\"k_pendel_målt\":<15} = {k_pendel_messured:>5.2f} N m^-1')"
   ]
  },
  {
   "cell_type": "markdown",
   "metadata": {},
   "source": []
  },
  {
   "cell_type": "code",
   "execution_count": 8,
   "metadata": {},
   "outputs": [],
   "source": [
    "wA = 1/2*(w1_messured-w2_messured)\n",
    "wB = 1/2*(w1_messured+w2_messured)"
   ]
  }
 ],
 "metadata": {
  "kernelspec": {
   "display_name": "FYSMATenv",
   "language": "python",
   "name": "python3"
  },
  "language_info": {
   "codemirror_mode": {
    "name": "ipython",
    "version": 3
   },
   "file_extension": ".py",
   "mimetype": "text/x-python",
   "name": "python",
   "nbconvert_exporter": "python",
   "pygments_lexer": "ipython3",
   "version": "3.11.2"
  },
  "orig_nbformat": 4,
  "vscode": {
   "interpreter": {
    "hash": "16a5416b6559978acc13ef9157a43543973d46541ff6ce11a5788a6a3a452cff"
   }
  }
 },
 "nbformat": 4,
 "nbformat_minor": 2
}
