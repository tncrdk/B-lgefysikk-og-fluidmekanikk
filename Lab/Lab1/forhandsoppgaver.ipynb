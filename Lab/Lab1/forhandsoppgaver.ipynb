{
 "cells": [
  {
   "attachments": {},
   "cell_type": "markdown",
   "metadata": {},
   "source": [
    "1. For den enkle oscillatoren fant vi at vinkelhastigheten kun var avhengig av fjærkonstant\n",
    "og masse. Hvilken påvirking har tyngdekraften på svingebevegelsen?"
   ]
  },
  {
   "attachments": {},
   "cell_type": "markdown",
   "metadata": {},
   "source": [
    "Tyngdekraften bestemmer likevektsutslaget (hvor vi setter x = 0)."
   ]
  },
  {
   "attachments": {},
   "cell_type": "markdown",
   "metadata": {},
   "source": [
    "2. Utled effektive fjærkonstanter for to oscillatorer koblet i serie og parallell som vist i\n",
    "figur 1.3. Dere skal altså finne en bevegelsesligning på samme form som ligning (1.5)\n",
    "for disse to oppsettene. Hint for seriekobling: Hva er kraften på fjær 2 fra massen? Og\n",
    "hva er kraften fra fjær 2 på fjær 1?"
   ]
  },
  {
   "attachments": {},
   "cell_type": "markdown",
   "metadata": {},
   "source": [
    "I serie:\n",
    "\n",
    "\\begin{equation}\n",
    "\\frac{mg}{k_{eff}} = \\frac{mg}{k_1} + \\frac{mg}{k_2} \\Rightarrow k_{eff} = \\frac{k_1k_2}{k_1+k_2}\n",
    "\\end{equation}\n",
    "\n",
    "I parallell:\n",
    "\n",
    "\\begin{equation}\n",
    "k_{eff}x = k_1x+k_2x \\Rightarrow k_{eff} = k_1+k_2 \n",
    "\\end{equation}"
   ]
  }
 ],
 "metadata": {
  "kernelspec": {
   "display_name": "Python 3",
   "language": "python",
   "name": "python3"
  },
  "language_info": {
   "codemirror_mode": {
    "name": "ipython",
    "version": 3
   },
   "file_extension": ".py",
   "mimetype": "text/x-python",
   "name": "python",
   "nbconvert_exporter": "python",
   "pygments_lexer": "ipython3",
   "version": "3.11.2"
  },
  "orig_nbformat": 4,
  "vscode": {
   "interpreter": {
    "hash": "6d37ad6984b446ef8dee1a6f8931a89ce35d6f27f07c4d73370e52a4f49c44e3"
   }
  }
 },
 "nbformat": 4,
 "nbformat_minor": 2
}
